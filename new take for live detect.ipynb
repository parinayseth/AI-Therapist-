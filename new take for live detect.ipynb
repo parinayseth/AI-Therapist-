{
 "cells": [
  {
   "cell_type": "code",
   "execution_count": 8,
   "id": "2a7094e1",
   "metadata": {},
   "outputs": [],
   "source": [
    "import cv2\n",
    "import numpy as np\n",
    "import mediapipe as mp\n",
    "\n",
    "# Declaring the Pose recognition, which will detect all the possible poses when angle is detected\n",
    "mp_pose = mp.solutions.pose\n",
    "\n",
    "# Drawing all landmarks\n",
    "mp_drawing = mp.solutions.drawing_utils"
   ]
  },
  {
   "cell_type": "code",
   "execution_count": 9,
   "id": "904cd4c8",
   "metadata": {},
   "outputs": [],
   "source": [
    "def calculate_angle(a,b,c):\n",
    "    a = np.array(a) # First\n",
    "    b = np.array(b)# Mid\n",
    "    c = np.array(c) # End\n",
    "    \n",
    "    radians = np.arctan2(c[1]-b[1], c[0]-b[0]) - np.arctan2(a[1]-b[1], a[0]-b[0])\n",
    "    angle = np.abs(radians*180.0/np.pi)\n",
    "    \n",
    "    if angle >180.0:\n",
    "        angle = 360-angle\n",
    "        \n",
    "    return angle"
   ]
  },
  {
   "cell_type": "code",
   "execution_count": 10,
   "id": "332d1ef9",
   "metadata": {},
   "outputs": [],
   "source": [
    "#taking video as input\n",
    "cap = cv2.VideoCapture(0)\n",
    "## Setup mediapipe instance\n",
    "with mp_pose.Pose(min_detection_confidence=0.5, min_tracking_confidence=0.5) as pose:\n",
    "    while cap.isOpened():\n",
    "        ret, frame = cap.read()\n",
    "        \n",
    "        \n",
    "        # Recolor image to RGB\n",
    "        image = cv2.cvtColor(frame, cv2.COLOR_BGR2RGB)\n",
    "        image.flags.writeable = False\n",
    "        \n",
    "      \n",
    "        # Make detection\n",
    "        results = pose.process(image)\n",
    "    \n",
    "        # Recolor back to BGR\n",
    "        image.flags.writeable = True\n",
    "        image = cv2.cvtColor(image, cv2.COLOR_RGB2BGR)  \n",
    "        \n",
    "        # Render detections\n",
    "        mp_drawing.draw_landmarks(image, results.pose_landmarks, mp_pose.POSE_CONNECTIONS,\n",
    "                                mp_drawing.DrawingSpec(color=(245,117,66), thickness=2, circle_radius=2), \n",
    "                                mp_drawing.DrawingSpec(color=(245,66,230), thickness=2, circle_radius=2) \n",
    "                                 )               \n",
    "        \n",
    "        \n",
    "        cv2.imshow('KneeBendVideo', image)\n",
    "\n",
    "        if cv2.waitKey(10) & 0xFF == ord('q'):\n",
    "            counter = 0\n",
    "            break\n",
    "        \n",
    "        \n",
    "cap.release()\n",
    "cv2.destroyAllWindows()"
   ]
  },
  {
   "cell_type": "code",
   "execution_count": 11,
   "id": "97439328",
   "metadata": {},
   "outputs": [
    {
     "ename": "NameError",
     "evalue": "name 'landmarks' is not defined",
     "output_type": "error",
     "traceback": [
      "\u001b[1;31m---------------------------------------------------------------------------\u001b[0m",
      "\u001b[1;31mNameError\u001b[0m                                 Traceback (most recent call last)",
      "Cell \u001b[1;32mIn[11], line 1\u001b[0m\n\u001b[1;32m----> 1\u001b[0m \u001b[38;5;28mlen\u001b[39m(\u001b[43mlandmarks\u001b[49m)\n",
      "\u001b[1;31mNameError\u001b[0m: name 'landmarks' is not defined"
     ]
    }
   ],
   "source": [
    "len(landmarks)"
   ]
  },
  {
   "cell_type": "code",
   "execution_count": 12,
   "id": "7b7d6ee2",
   "metadata": {},
   "outputs": [
    {
     "ename": "NameError",
     "evalue": "name 'landmarks' is not defined",
     "output_type": "error",
     "traceback": [
      "\u001b[1;31m---------------------------------------------------------------------------\u001b[0m",
      "\u001b[1;31mNameError\u001b[0m                                 Traceback (most recent call last)",
      "Cell \u001b[1;32mIn[12], line 1\u001b[0m\n\u001b[1;32m----> 1\u001b[0m shoulder \u001b[38;5;241m=\u001b[39m [\u001b[43mlandmarks\u001b[49m[mp_pose\u001b[38;5;241m.\u001b[39mPoseLandmark\u001b[38;5;241m.\u001b[39mLEFT_SHOULDER\u001b[38;5;241m.\u001b[39mvalue]\u001b[38;5;241m.\u001b[39mx,landmarks[mp_pose\u001b[38;5;241m.\u001b[39mPoseLandmark\u001b[38;5;241m.\u001b[39mLEFT_SHOULDER\u001b[38;5;241m.\u001b[39mvalue]\u001b[38;5;241m.\u001b[39my]\n\u001b[0;32m      2\u001b[0m elbow \u001b[38;5;241m=\u001b[39m [landmarks[mp_pose\u001b[38;5;241m.\u001b[39mPoseLandmark\u001b[38;5;241m.\u001b[39mLEFT_ELBOW\u001b[38;5;241m.\u001b[39mvalue]\u001b[38;5;241m.\u001b[39mx,landmarks[mp_pose\u001b[38;5;241m.\u001b[39mPoseLandmark\u001b[38;5;241m.\u001b[39mLEFT_ELBOW\u001b[38;5;241m.\u001b[39mvalue]\u001b[38;5;241m.\u001b[39my]\n\u001b[0;32m      3\u001b[0m wrist \u001b[38;5;241m=\u001b[39m [landmarks[mp_pose\u001b[38;5;241m.\u001b[39mPoseLandmark\u001b[38;5;241m.\u001b[39mLEFT_WRIST\u001b[38;5;241m.\u001b[39mvalue]\u001b[38;5;241m.\u001b[39mx,landmarks[mp_pose\u001b[38;5;241m.\u001b[39mPoseLandmark\u001b[38;5;241m.\u001b[39mLEFT_WRIST\u001b[38;5;241m.\u001b[39mvalue]\u001b[38;5;241m.\u001b[39my]\n",
      "\u001b[1;31mNameError\u001b[0m: name 'landmarks' is not defined"
     ]
    }
   ],
   "source": [
    "shoulder = [landmarks[mp_pose.PoseLandmark.LEFT_SHOULDER.value].x,landmarks[mp_pose.PoseLandmark.LEFT_SHOULDER.value].y]\n",
    "elbow = [landmarks[mp_pose.PoseLandmark.LEFT_ELBOW.value].x,landmarks[mp_pose.PoseLandmark.LEFT_ELBOW.value].y]\n",
    "wrist = [landmarks[mp_pose.PoseLandmark.LEFT_WRIST.value].x,landmarks[mp_pose.PoseLandmark.LEFT_WRIST.value].y]"
   ]
  },
  {
   "cell_type": "code",
   "execution_count": 13,
   "id": "2b8525ce",
   "metadata": {},
   "outputs": [
    {
     "ename": "NameError",
     "evalue": "name 'shoulder' is not defined",
     "output_type": "error",
     "traceback": [
      "\u001b[1;31m---------------------------------------------------------------------------\u001b[0m",
      "\u001b[1;31mNameError\u001b[0m                                 Traceback (most recent call last)",
      "Cell \u001b[1;32mIn[13], line 1\u001b[0m\n\u001b[1;32m----> 1\u001b[0m \u001b[43mshoulder\u001b[49m, elbow, wrist\n",
      "\u001b[1;31mNameError\u001b[0m: name 'shoulder' is not defined"
     ]
    }
   ],
   "source": [
    "shoulder, elbow, wrist"
   ]
  },
  {
   "cell_type": "code",
   "execution_count": 14,
   "id": "b9d2ba38",
   "metadata": {},
   "outputs": [
    {
     "ename": "NameError",
     "evalue": "name 'shoulder' is not defined",
     "output_type": "error",
     "traceback": [
      "\u001b[1;31m---------------------------------------------------------------------------\u001b[0m",
      "\u001b[1;31mNameError\u001b[0m                                 Traceback (most recent call last)",
      "Cell \u001b[1;32mIn[14], line 1\u001b[0m\n\u001b[1;32m----> 1\u001b[0m calculate_angle(\u001b[43mshoulder\u001b[49m, elbow, wrist)\n",
      "\u001b[1;31mNameError\u001b[0m: name 'shoulder' is not defined"
     ]
    }
   ],
   "source": [
    "calculate_angle(shoulder, elbow, wrist)\n"
   ]
  },
  {
   "cell_type": "code",
   "execution_count": 26,
   "id": "e542f22c",
   "metadata": {},
   "outputs": [
    {
     "data": {
      "text/plain": [
       "(521, 451)"
      ]
     },
     "execution_count": 26,
     "metadata": {},
     "output_type": "execute_result"
    }
   ],
   "source": [
    "tuple(np.multiply(elbow, [640, 480]).astype(int))"
   ]
  },
  {
   "cell_type": "code",
   "execution_count": 25,
   "id": "e677fa4a",
   "metadata": {},
   "outputs": [],
   "source": [
    "#taking video as input\n",
    "cap = cv2.VideoCapture(0)\n",
    "\n",
    "## Setup mediapipe instance\n",
    "with mp_pose.Pose(min_detection_confidence=0.6, min_tracking_confidence=0.6) as pose:\n",
    "    while cap.isOpened():\n",
    "        ret, frame = cap.read()\n",
    "        \n",
    "        # Recolor image to RGB\n",
    "        image = cv2.cvtColor(frame, cv2.COLOR_BGR2RGB)\n",
    "        image.flags.writeable = False\n",
    "        \n",
    "       \n",
    "        results = pose.process(image)\n",
    "    \n",
    "        # Recolor back to BGR\n",
    "        image.flags.writeable = True\n",
    "        image = cv2.cvtColor(image, cv2.COLOR_RGB2BGR)  \n",
    "        \n",
    "        # Render detections\n",
    "        \n",
    "        try:\n",
    "            landmarks = results.pose_landmarks.landmark\n",
    "            \n",
    "            # Get coordinates\n",
    "            shoulder = [landmarks[mp_pose.PoseLandmark.LEFT_SHOULDER.value].x,landmarks[mp_pose.PoseLandmark.LEFT_SHOULDER.value].y]\n",
    "            elbow = [landmarks[mp_pose.PoseLandmark.LEFT_ELBOW.value].x,landmarks[mp_pose.PoseLandmark.LEFT_ELBOW.value].y]\n",
    "            wrist = [landmarks[mp_pose.PoseLandmark.LEFT_WRIST.value].x,landmarks[mp_pose.PoseLandmark.LEFT_WRIST.value].y]\n",
    "            \n",
    "            # Calculate angle\n",
    "            angle = calculate_angle(shoulder, elbow, wrist)\n",
    "            \n",
    "            # Visualize angle\n",
    "            cv2.putText(image, str(angle), \n",
    "                           tuple(np.multiply(elbow, [640, 480]).astype(int)), \n",
    "                           cv2.FONT_HERSHEY_SIMPLEX, 0.5, (255, 255, 255), 2, cv2.LINE_AA\n",
    "                                )\n",
    "            \n",
    "            # Render Detections\n",
    "            a0 = int(wrist[0] * width)\n",
    "            a1 = int(wrist[1] * height)\n",
    "\n",
    "            k0 = int(elbow[0] * width)\n",
    "            k1 = int(elbow[1] * height)\n",
    "\n",
    "            h0 = int(shoulder[0] * width)\n",
    "            h1 = int(shoulder[1] * height)\n",
    "\n",
    "            cv2.line(image, (h0, h1), (k0, k1), (255, 255, 255), 2)\n",
    "            cv2.line(image, (k0, k1), (a0, a1), (255, 255, 255), 2)\n",
    "            cv2.circle(image, (h0, h1), 5, (0, 0, 0), cv2.FILLED)\n",
    "            cv2.circle(image, (k0, k1), 5, (0, 0, 0), cv2.FILLED)\n",
    "            cv2.circle(image, (a0, a1), 5, (0, 0, 0), cv2.FILLED)\n",
    "            \n",
    "            \n",
    "            mp_drawing.draw_landmarks(image, results.pose_landmarks, mp_pose.POSE_CONNECTIONS,\n",
    "                                mp_drawing.DrawingSpec(color=(245,117,66), thickness=2, circle_radius=2), \n",
    "                                mp_drawing.DrawingSpec(color=(245,66,230), thickness=2, circle_radius=2) \n",
    "                                 )     \n",
    "                       \n",
    "        except:\n",
    "            pass\n",
    "        \n",
    "        \n",
    "        cv2.imshow('KneeBendVideo', image)\n",
    "\n",
    "        if cv2.waitKey(10) & 0xFF == ord('q'):\n",
    "            counter = 0\n",
    "            break\n",
    "        \n",
    "        \n",
    "cap.release()\n",
    "cv2.destroyAllWindows()"
   ]
  },
  {
   "cell_type": "code",
   "execution_count": null,
   "id": "fe674e74",
   "metadata": {},
   "outputs": [],
   "source": []
  },
  {
   "cell_type": "code",
   "execution_count": null,
   "id": "830fad35",
   "metadata": {},
   "outputs": [],
   "source": []
  }
 ],
 "metadata": {
  "kernelspec": {
   "display_name": "Python 3 (ipykernel)",
   "language": "python",
   "name": "python3"
  },
  "language_info": {
   "codemirror_mode": {
    "name": "ipython",
    "version": 3
   },
   "file_extension": ".py",
   "mimetype": "text/x-python",
   "name": "python",
   "nbconvert_exporter": "python",
   "pygments_lexer": "ipython3",
   "version": "3.10.3"
  }
 },
 "nbformat": 4,
 "nbformat_minor": 5
}
