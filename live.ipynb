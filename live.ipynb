{
 "cells": [
  {
   "cell_type": "code",
   "execution_count": 8,
   "id": "0c87dc5a",
   "metadata": {},
   "outputs": [],
   "source": [
    "import cv2\n",
    "import numpy as np\n",
    "import mediapipe as mp\n",
    "\n",
    "from mediapipe.python._framework_bindings.calculator_graph import CalculatorGraph\n",
    "from mediapipe.python._framework_bindings.calculator_graph import GraphInputStreamAddMode\n",
    "from mediapipe.python._framework_bindings.validated_graph_config import ValidatedGraphConfig\n",
    "import mediapipe.python.packet_creator\n",
    "import mediapipe.python.packet_getter\n",
    "\n",
    "\n",
    "# Declaring the Pose recognition, which will detect all the possible poses when angle is detected\n",
    "mp_pose = mp.solutions.pose\n",
    "\n",
    "# Drawing all landmarks\n",
    "mp_drawing = mp.solutions.drawing_utils"
   ]
  },
  {
   "cell_type": "code",
   "execution_count": 9,
   "id": "14df84a9",
   "metadata": {},
   "outputs": [],
   "source": [
    "# Video Characteristics\n",
    "width = int(cap.get(cv2.CAP_PROP_FRAME_WIDTH))\n",
    "height = int(cap.get(cv2.CAP_PROP_FRAME_HEIGHT))\n",
    "size = (width, height)\n",
    "fps = int(cap.get(cv2.CAP_PROP_FPS))\n",
    "\n",
    "\n"
   ]
  },
  {
   "cell_type": "code",
   "execution_count": 10,
   "id": "fc426b38",
   "metadata": {},
   "outputs": [],
   "source": [
    "def calculate_angle(a,b,c):\n",
    "    a = np.array(a) # First\n",
    "    b = np.array(b)# Mid\n",
    "    c = np.array(c) # End\n",
    "    \n",
    "    radians = np.arctan2(c[1]-b[1], c[0]-b[0]) - np.arctan2(a[1]-b[1], a[0]-b[0])\n",
    "    angle = np.abs(radians*180.0/np.pi)\n",
    "    \n",
    "    if angle >180.0:\n",
    "        angle = 360-angle\n",
    "        \n",
    "    return angle \n",
    "cap = cv2.VideoCapture('KneeBendVideo.mp4')\n"
   ]
  },
  {
   "cell_type": "code",
   "execution_count": 11,
   "id": "ac79c3a9",
   "metadata": {},
   "outputs": [],
   "source": [
    "# Counter and State Variables\n",
    "relax_counter = 0 \n",
    "bent_counter = 0\n",
    "counter = 0\n",
    "stage = None\n",
    "feedback = None\n",
    "images_array=[]"
   ]
  },
  {
   "cell_type": "code",
   "execution_count": 12,
   "id": "1a60188c",
   "metadata": {},
   "outputs": [
    {
     "data": {
      "text/plain": [
       "33"
      ]
     },
     "execution_count": 12,
     "metadata": {},
     "output_type": "execute_result"
    }
   ],
   "source": [
    "#checking the landmarks\n",
    "len(landmarks)"
   ]
  },
  {
   "cell_type": "code",
   "execution_count": 15,
   "id": "3809902e",
   "metadata": {},
   "outputs": [],
   "source": [
    "#required landmarks\n",
    "hip = [landmarks[mp_pose.PoseLandmark.LEFT_HIP.value].x,landmarks[mp_pose.PoseLandmark.LEFT_HIP.value].y]\n",
    "knee = [landmarks[mp_pose.PoseLandmark.LEFT_KNEE.value].x,landmarks[mp_pose.PoseLandmark.LEFT_KNEE.value].y]\n",
    "ankle = [landmarks[mp_pose.PoseLandmark.LEFT_ANKLE.value].x,landmarks[mp_pose.PoseLandmark.LEFT_ANKLE.value].y]"
   ]
  },
  {
   "cell_type": "code",
   "execution_count": 22,
   "id": "3a610a40",
   "metadata": {},
   "outputs": [
    {
     "data": {
      "text/plain": [
       "([0.656053900718689, 0.8197669982910156],\n",
       " [0.5185306072235107, 0.8460786938667297],\n",
       " [0.41671764850616455, 0.8673246502876282])"
      ]
     },
     "execution_count": 22,
     "metadata": {},
     "output_type": "execute_result"
    }
   ],
   "source": [
    "hip, knee, ankle"
   ]
  },
  {
   "cell_type": "code",
   "execution_count": 23,
   "id": "a45aff47",
   "metadata": {},
   "outputs": [
    {
     "data": {
      "text/plain": [
       "179.04411830446392"
      ]
     },
     "execution_count": 23,
     "metadata": {},
     "output_type": "execute_result"
    }
   ],
   "source": [
    "calculate_angle(hip, knee, ankle)"
   ]
  },
  {
   "cell_type": "code",
   "execution_count": 45,
   "id": "96502de6",
   "metadata": {},
   "outputs": [
    {
     "data": {
      "text/plain": [
       "(399, 287)"
      ]
     },
     "execution_count": 45,
     "metadata": {},
     "output_type": "execute_result"
    }
   ],
   "source": [
    "tuple(np.multiply(shoulder, [640, 480]).astype(int))"
   ]
  },
  {
   "cell_type": "code",
   "execution_count": 83,
   "id": "a8adb159",
   "metadata": {},
   "outputs": [],
   "source": [
    "#taking video as input\n",
    "cap = cv2.VideoCapture('KneeBendVideo.mp4')\n",
    "\n",
    "# Counter and State Variables\n",
    "relax_counter = 0 \n",
    "bent_counter = 0\n",
    "counter = 0\n",
    "stage = None\n",
    "feedback = None\n",
    "images_array=[]\n",
    "\n",
    "## Setup mediapipe instance\n",
    "with mp_pose.Pose(min_detection_confidence=0.5, min_tracking_confidence=0.5) as pose:\n",
    "    while cap.isOpened():\n",
    "        ret, frame = cap.read()\n",
    "        \n",
    "        # Recolor image to RGB\n",
    "        image = cv2.cvtColor(frame, cv2.COLOR_BGR2RGB)\n",
    "        image.flags.writeable = False\n",
    "      \n",
    "        # Make detection\n",
    "        results = pose.process(image)\n",
    "    \n",
    "        # Recolor back to BGR\n",
    "        image.flags.writeable = True\n",
    "        image = cv2.cvtColor(image, cv2.COLOR_RGB2BGR)  \n",
    "        \n",
    "        try:\n",
    "            landmarks = results.pose_landmarks.landmark\n",
    "            \n",
    "            # Get coordinates of interested landmarks (23, 25, and 27)\n",
    "            hip = [landmarks[mp_pose.PoseLandmark.LEFT_HIP.value].x, landmarks[mp_pose.PoseLandmark.LEFT_HIP.value].y]\n",
    "            knee = [landmarks[mp_pose.PoseLandmark.LEFT_KNEE.value].x, landmarks[mp_pose.PoseLandmark.LEFT_KNEE.value].y]\n",
    "            ankle = [landmarks[mp_pose.PoseLandmark.LEFT_ANKLE.value].x, landmarks[mp_pose.PoseLandmark.LEFT_ANKLE.value].y]\n",
    "            shoulder = [landmarks[mp_pose.PoseLandmark.LEFT_SHOULDER.value].x, landmarks[mp_pose.PoseLandmark.LEFT_SHOULDER.value].y]\n",
    "            \n",
    "            # Calculating Angle\n",
    "            angle = calculate_angle(hip, knee, ankle)\n",
    "\n",
    "            # Render Detections\n",
    "            a0 = int(ankle[0] * width)\n",
    "            a1 = int(ankle[1] * height)\n",
    "\n",
    "            k0 = int(knee[0] * width)\n",
    "            k1 = int(knee[1] * height)\n",
    "\n",
    "            h0 = int(hip[0] * width)\n",
    "            h1 = int(hip[1] * height)\n",
    "\n",
    "            cv2.line(image, (h0, h1), (k0, k1), (255, 255, 255), 2)\n",
    "            cv2.line(image, (k0, k1), (a0, a1), (255, 255, 255), 2)\n",
    "            cv2.circle(image, (h0, h1), 5, (0, 0, 0), cv2.FILLED)\n",
    "            cv2.circle(image, (k0, k1), 5, (0, 0, 0), cv2.FILLED)\n",
    "            cv2.circle(image, (a0, a1), 5, (0, 0, 0), cv2.FILLED)       \n",
    "            \n",
    "            \n",
    "            # Visualizing Angle\n",
    "            cv2.putText(image, 'LIVE ANGLE MEASURE', [25,590], \n",
    "                    cv2.FONT_HERSHEY_PLAIN, 1, (255,255,255), 2, cv2.LINE_AA)\n",
    "            cv2.putText(image, str(round(angle,4)), (20, 620), \n",
    "                        cv2.FONT_HERSHEY_PLAIN, 1.5, (255, 255, 255), 2, cv2.LINE_AA)\n",
    "            \n",
    "            \n",
    "            relax_time = (1 / fps) * relax_counter\n",
    "            bent_time = (1 / fps) * bent_counter\n",
    "\n",
    "            #Counter Logic\n",
    "            if angle > 140:\n",
    "                relax_counter += 1\n",
    "                bent_counter = 0\n",
    "                stage = \"Relaxed\"\n",
    "                feedback = \"\"\n",
    "            \n",
    "            if angle < 140:\n",
    "                relax_counter = 0\n",
    "                bent_counter += 1\n",
    "                stage = \"Bent\"\n",
    "                feedback = \"\"\n",
    "            \n",
    "            # Sucessful rep\n",
    "            if bent_time == 8:\n",
    "                counter += 1\n",
    "                feedback = 'Rep completed'\n",
    "                \n",
    "            elif bent_time < 8 and stage == 'Bent':\n",
    "                feedback = 'Keep Your Knee Bent'\n",
    "            \n",
    "            else:\n",
    "                feedback = \"\"\n",
    "        except:\n",
    "            pass\n",
    "        \n",
    "        \n",
    "            \n",
    "        # Setup status box\n",
    "        cv2.rectangle(image, (0,0), (int(width), 60), (0,0,0), -1)\n",
    "        \n",
    "        # Rep data\n",
    "        cv2.putText(image, 'REPS Count', (30,15), \n",
    "                    cv2.FONT_HERSHEY_PLAIN, 1, (255,255,255), 1, cv2.LINE_AA)\n",
    "        \n",
    "        cv2.putText(image, str(counter), \n",
    "                    (30,50), \n",
    "                    cv2.FONT_HERSHEY_PLAIN, 1, (255,255,255), 1, cv2.LINE_AA)\n",
    "        \n",
    "        # Stage data\n",
    "        cv2.putText(image, 'LIVE STATUS', (200,15), \n",
    "                    cv2.FONT_HERSHEY_PLAIN, 1, (255,255,255), 1, cv2.LINE_AA)\n",
    "        cv2.putText(image, stage, \n",
    "                    (200,50), \n",
    "                    cv2.FONT_HERSHEY_PLAIN, 1, (255,255,255), 1, cv2.LINE_AA)\n",
    "        \n",
    "        # Feedback\n",
    "        cv2.putText(image, 'LIVE UPDATE', (450,15), \n",
    "                    cv2.FONT_HERSHEY_PLAIN, 1, (255,255,255), 1, cv2.LINE_AA)\n",
    "        \n",
    "        cv2.putText(image, feedback, \n",
    "                    (450,50), \n",
    "                    cv2.FONT_HERSHEY_PLAIN, 1, (255,255,255), 1, cv2.LINE_AA)\n",
    "        \n",
    "        # Bent Time\n",
    "        cv2.putText(image, 'BENT TIME', (725,15), \n",
    "                    cv2.FONT_HERSHEY_PLAIN, 1, (255,255,255), 1, cv2.LINE_AA)\n",
    "        \n",
    "        cv2.putText(image, str(round(bent_time,2)), \n",
    "                    (725,50), \n",
    "                    cv2.FONT_HERSHEY_PLAIN, 1, (255,255,255), 1, cv2.LINE_AA) \n",
    "     \n",
    "        images_array.append(image) \n",
    "        cv2.imshow('KneeBendVideo', image)\n",
    "\n",
    "        if cv2.waitKey(10) & 0xFF == ord('q'):\n",
    "            counter = 0\n",
    "            break\n",
    "\n",
    "cap.release()\n",
    "cv2.destroyAllWindows()\n",
    "              \n",
    "        "
   ]
  },
  {
   "cell_type": "code",
   "execution_count": 70,
   "id": "43780d5f",
   "metadata": {},
   "outputs": [],
   "source": [
    "#declaring the video format and sample output video \n",
    "fourcc = cv2.VideoWriter_fourcc(*'mp4v')\n",
    "output_video = cv2.VideoWriter(\"./output_video.mp4\", fourcc, 30.0, (width, height))\n",
    "\n",
    "# Release the video writer\n",
    "output_video.release()\n",
    "\n",
    "# Generate output video\n",
    "out = cv2.VideoWriter('Output.mp4', cv2.VideoWriter_fourcc(*'DIVX'), fps, size)\n",
    "for i in range(len(images_array)):\n",
    "    out.write(images_array[i])\n",
    "out.release()"
   ]
  },
  {
   "cell_type": "code",
   "execution_count": null,
   "id": "3895dfed",
   "metadata": {},
   "outputs": [],
   "source": []
  },
  {
   "cell_type": "code",
   "execution_count": null,
   "id": "ee3965a6",
   "metadata": {},
   "outputs": [],
   "source": []
  },
  {
   "cell_type": "code",
   "execution_count": null,
   "id": "fee1502c",
   "metadata": {},
   "outputs": [],
   "source": []
  }
 ],
 "metadata": {
  "kernelspec": {
   "display_name": "Python 3 (ipykernel)",
   "language": "python",
   "name": "python3"
  },
  "language_info": {
   "codemirror_mode": {
    "name": "ipython",
    "version": 3
   },
   "file_extension": ".py",
   "mimetype": "text/x-python",
   "name": "python",
   "nbconvert_exporter": "python",
   "pygments_lexer": "ipython3",
   "version": "3.10.3"
  }
 },
 "nbformat": 4,
 "nbformat_minor": 5
}
